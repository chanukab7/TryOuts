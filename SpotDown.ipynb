{
  "nbformat": 4,
  "nbformat_minor": 0,
  "metadata": {
    "colab": {
      "name": "SpotDown.ipynb",
      "provenance": [],
      "authorship_tag": "ABX9TyOg+ujsKVpcV61XPolEqUk7",
      "include_colab_link": true
    },
    "kernelspec": {
      "name": "python3",
      "display_name": "Python 3"
    },
    "language_info": {
      "name": "python"
    }
  },
  "cells": [
    {
      "cell_type": "markdown",
      "metadata": {
        "id": "view-in-github",
        "colab_type": "text"
      },
      "source": [
        "<a href=\"https://colab.research.google.com/github/chanukab7/TryOuts/blob/main/SpotDown.ipynb\" target=\"_parent\"><img src=\"https://colab.research.google.com/assets/colab-badge.svg\" alt=\"Open In Colab\"/></a>"
      ]
    },
    {
      "cell_type": "code",
      "metadata": {
        "id": "-E7Qlm9-2q_T"
      },
      "source": [
        "!pip install spotdl --upgrade\n",
        "!pip install ffmpeg --upgrade\n",
        "!sudo add-apt-repository ppa:savoury1/ffmpeg4 -q\n",
        "!sudo add-apt-repository ppa:savoury1/graphics -q\n",
        "!sudo add-apt-repository ppa:savoury1/multimedia -q\n",
        "!sudo apt-get update -q\n",
        "!sudo apt-get install ffmpeg -q"
      ],
      "execution_count": null,
      "outputs": []
    },
    {
      "cell_type": "code",
      "metadata": {
        "id": "NcnQvmjy2r-v"
      },
      "source": [
        "!spotdl #spotifylink"
      ],
      "execution_count": null,
      "outputs": []
    },
    {
      "cell_type": "code",
      "metadata": {
        "id": "r1dzvrlV2ulT"
      },
      "source": [
        "#delete all .mp3 files\n",
        "!rm -r *.mp3"
      ],
      "execution_count": null,
      "outputs": []
    }
  ]
}