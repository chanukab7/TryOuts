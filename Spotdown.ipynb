{
  "nbformat": 4,
  "nbformat_minor": 0,
  "metadata": {
    "colab": {
      "name": "Spotdown.ipynb",
      "provenance": [],
      "collapsed_sections": [],
      "authorship_tag": "ABX9TyOXXGABLr0VGG563S4Enz3w",
      "include_colab_link": true
    },
    "kernelspec": {
      "name": "python3",
      "display_name": "Python 3"
    },
    "language_info": {
      "name": "python"
    }
  },
  "cells": [
    {
      "cell_type": "markdown",
      "metadata": {
        "id": "view-in-github",
        "colab_type": "text"
      },
      "source": [
        "<a href=\"https://colab.research.google.com/github/chanukab7/TryOuts/blob/main/Spotdown.ipynb\" target=\"_parent\"><img src=\"https://colab.research.google.com/assets/colab-badge.svg\" alt=\"Open In Colab\"/></a>"
      ]
    },
    {
      "cell_type": "code",
      "metadata": {
        "id": "QEyX2TG3hjFt"
      },
      "source": [
        "!pip install spotdl --upgrade\n",
        "!pip install ffmpeg --upgrade\n",
        "!sudo add-apt-repository ppa:savoury1/ffmpeg4\n",
        "!sudo add-apt-repository ppa:savoury1/graphics\n",
        "!sudo add-apt-repository ppa:savoury1/multimedia\n",
        "!sudo apt-get update\n",
        "!sudo apt-get install ffmpeg"
      ],
      "execution_count": null,
      "outputs": []
    },
    {
      "cell_type": "code",
      "metadata": {
        "colab": {
          "base_uri": "https://localhost:8080/"
        },
        "id": "2rICXCIIhvOi",
        "outputId": "671dc559-48b6-4383-f665-431e2f048027"
      },
      "source": [
        "!spotdl https://open.spotify.com/track/2qnIZKUoJxwZjUbMqW2KYz?si=7bf6e092efc44e17"
      ],
      "execution_count": 14,
      "outputs": [
        {
          "output_type": "stream",
          "name": "stdout",
          "text": [
            "\u001b[?25l\r\u001b[2KFetching Song...\n",
            "\r\u001b[2KGathering Spotify Metadata for: \n",
            "https://open.spotify.com/track/2qnIZKUoJxwZjUbMqW2KYz?si=7bf6e092efc44e17\n",
            "\u001b[2KFound YouTube URL for \"Junie - Ett steg fram\" : \n",
            "https://www.youtube.com/watch?v=ZYH3fNMFgpQ\n",
            "\u001b[2K\n",
            "\u001b[2K\u001b[37mJunie - Ett steg fram\u001b[0m    \u001b[38;2;40;100;40mDone              \u001b[0m \u001b[32m━━━━━━━━━━━━━━━━━━━━━━━\u001b[0m \u001b[32m100%\u001b[0m \u001b[38;2;40;100;40m0:00:00\u001b[0m\n",
            "\u001b[?25h"
          ]
        }
      ]
    },
    {
      "cell_type": "code",
      "metadata": {
        "id": "st8nR-Qwl0Od"
      },
      "source": [
        "!rm -r *.mp3"
      ],
      "execution_count": 15,
      "outputs": []
    }
  ]
}