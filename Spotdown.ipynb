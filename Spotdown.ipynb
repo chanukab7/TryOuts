{
  "nbformat": 4,
  "nbformat_minor": 0,
  "metadata": {
    "colab": {
      "name": "Spotdown.ipynb",
      "provenance": [],
      "collapsed_sections": []
    },
    "kernelspec": {
      "name": "python3",
      "display_name": "Python 3"
    },
    "language_info": {
      "name": "python"
    }
  },
  "cells": [
    {
      "cell_type": "code",
      "metadata": {
        "id": "QEyX2TG3hjFt"
      },
      "source": [
        "!pip install spotdl --upgrade\n",
        "!pip install ffmpeg --upgrade\n",
        "!sudo add-apt-repository ppa:savoury1/ffmpeg4 -q\n",
        "!sudo add-apt-repository ppa:savoury1/graphics -q\n",
        "!sudo add-apt-repository ppa:savoury1/multimedia -q\n",
        "!sudo apt-get update -q\n",
        "!sudo apt-get install ffmpeg -q"
      ],
      "execution_count": null,
      "outputs": []
    },
    {
      "cell_type": "code",
      "metadata": {
        "id": "2rICXCIIhvOi"
      },
      "source": [
        "!spotdl #spotifylink"
      ],
      "execution_count": null,
      "outputs": []
    },
    {
      "cell_type": "code",
      "metadata": {
        "id": "st8nR-Qwl0Od"
      },
      "source": [
        "#Dlt all .mp3 files\n",
        "!rm -r *.mp3"
      ],
      "execution_count": null,
      "outputs": []
    }
  ]
}