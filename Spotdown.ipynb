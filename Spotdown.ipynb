{
  "nbformat": 4,
  "nbformat_minor": 0,
  "metadata": {
    "colab": {
      "name": "Spotdown.ipynb",
      "provenance": [],
      "collapsed_sections": [],
      "authorship_tag": "ABX9TyMHpv5DtPgBVWnTpS0fgLpN",
      "include_colab_link": true
    },
    "kernelspec": {
      "name": "python3",
      "display_name": "Python 3"
    },
    "language_info": {
      "name": "python"
    }
  },
  "cells": [
    {
      "cell_type": "markdown",
      "metadata": {
        "id": "view-in-github",
        "colab_type": "text"
      },
      "source": [
        "<a href=\"https://colab.research.google.com/github/chanukab7/TryOuts/blob/main/Spotdown.ipynb\" target=\"_parent\"><img src=\"https://colab.research.google.com/assets/colab-badge.svg\" alt=\"Open In Colab\"/></a>"
      ]
    },
    {
      "cell_type": "code",
      "metadata": {
        "id": "QEyX2TG3hjFt"
      },
      "source": [
        "!pip install spotdl --upgrade\n",
        "!pip install ffmpeg --upgrade\n",
        "!sudo add-apt-repository ppa:savoury1/ffmpeg4\n",
        "!sudo add-apt-repository ppa:savoury1/graphics\n",
        "!sudo add-apt-repository ppa:savoury1/multimedia\n",
        "!sudo apt-get update\n",
        "!sudo apt-get install ffmpeg"
      ],
      "execution_count": null,
      "outputs": []
    },
    {
      "cell_type": "code",
      "metadata": {
        "id": "2rICXCIIhvOi"
      },
      "source": [
        "!spotdl #spotifylink"
      ],
      "execution_count": null,
      "outputs": []
    },
    {
      "cell_type": "code",
      "metadata": {
        "id": "st8nR-Qwl0Od"
      },
      "source": [
        "#Dlt all .mp3 files\n",
        "!rm -r *.mp3"
      ],
      "execution_count": 15,
      "outputs": []
    }
  ]
}