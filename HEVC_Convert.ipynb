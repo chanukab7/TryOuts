{
  "nbformat": 4,
  "nbformat_minor": 0,
  "metadata": {
    "colab": {
      "name": "HEVC Convert.ipynb",
      "provenance": [],
      "authorship_tag": "ABX9TyMU5tCqUJG2lIEDjAHspn7/",
      "include_colab_link": true
    },
    "kernelspec": {
      "name": "python3",
      "display_name": "Python 3"
    },
    "language_info": {
      "name": "python"
    },
    "accelerator": "TPU"
  },
  "cells": [
    {
      "cell_type": "markdown",
      "metadata": {
        "id": "view-in-github",
        "colab_type": "text"
      },
      "source": [
        "<a href=\"https://colab.research.google.com/github/chanukab7/TryOuts/blob/main/HEVC_Convert.ipynb\" target=\"_parent\"><img src=\"https://colab.research.google.com/assets/colab-badge.svg\" alt=\"Open In Colab\"/></a>"
      ]
    },
    {
      "cell_type": "code",
      "metadata": {
        "id": "8hz6C86by4yX"
      },
      "source": [
        "#Dont run this cell\n",
        "!pip install ffmpeg --upgrade\n",
        "!sudo add-apt-repository ppa:savoury1/ffmpeg4 -q\n",
        "!sudo add-apt-repository ppa:savoury1/graphics -q\n",
        "!sudo add-apt-repository ppa:savoury1/multimedia -q\n",
        "!sudo apt-get update -q\n",
        "!sudo apt-get install ffmpeg -q"
      ],
      "execution_count": null,
      "outputs": []
    },
    {
      "cell_type": "code",
      "metadata": {
        "id": "eWZiDMBak7Hf"
      },
      "source": [
        "%cd /content/\n",
        "!git clone https://github.com/chanukab7/x265-videoconverter"
      ],
      "execution_count": null,
      "outputs": []
    },
    {
      "cell_type": "code",
      "metadata": {
        "id": "FDgExRvflR47"
      },
      "source": [
        "!pip install gdown --upgrade"
      ],
      "execution_count": null,
      "outputs": []
    },
    {
      "cell_type": "code",
      "metadata": {
        "id": "RVOex60Elj0Z"
      },
      "source": [
        "%cd /content/\n",
        "!mkdir 'Vids'\n",
        "%cd /content/Vids/\n",
        "!gdown https://drive.google.com/u/0/uc?id=1-yaQFn7zHOWgPuVcPTN4VtcXQ72eo0BJ"
      ],
      "execution_count": 4,
      "outputs": []
    },
    {
      "cell_type": "code",
      "metadata": {
        "id": "UTSzyrSr2uV0"
      },
      "source": [
        "!cat /proc/cpuinfo"
      ],
      "execution_count": null,
      "outputs": []
    },
    {
      "cell_type": "code",
      "metadata": {
        "id": "jwlrmPubltEU"
      },
      "source": [
        "%cd /content/x265-videoconverter\n",
        "!python main.py -t /content/Vids -s\n",
        "!python main.py -n 1 --crf 34\n",
        "!python main.py --clear-all"
      ],
      "execution_count": null,
      "outputs": []
    }
  ]
}