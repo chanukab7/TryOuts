{
  "nbformat": 4,
  "nbformat_minor": 0,
  "metadata": {
    "colab": {
      "name": "HEVC Convert.ipynb",
      "provenance": [],
      "authorship_tag": "ABX9TyO6mS5flUJ7LzVTIY9rv0lD",
      "include_colab_link": true
    },
    "kernelspec": {
      "name": "python3",
      "display_name": "Python 3"
    },
    "language_info": {
      "name": "python"
    },
    "accelerator": "GPU"
  },
  "cells": [
    {
      "cell_type": "markdown",
      "metadata": {
        "id": "view-in-github",
        "colab_type": "text"
      },
      "source": [
        "<a href=\"https://colab.research.google.com/github/chanukab7/TryOuts/blob/main/HEVC_Convert.ipynb\" target=\"_parent\"><img src=\"https://colab.research.google.com/assets/colab-badge.svg\" alt=\"Open In Colab\"/></a>"
      ]
    },
    {
      "cell_type": "code",
      "metadata": {
        "id": "dholromqpMVK"
      },
      "source": [
        "import tensorflow as tf\n",
        "tf.test.gpu_device_name()\n",
        "!nvidia-smi\n",
        "\n",
        "%cd \\content\\\n",
        "!mkdir 'NVID'\n",
        "%cd \\content\\NVID\n",
        "!wget https://developer.download.nvidia.com/compute/cuda/repos/ubuntu2004/x86_64/cuda-ubuntu2004.pin\n",
        "!sudo mv cuda-ubuntu2004.pin /etc/apt/preferences.d/cuda-repository-pin-600\n",
        "!wget <https://developer.download.nvidia.com/compute/cuda/11.0.3/local_installers/cuda-repo-ubuntu2004-11-0-local_11.0.3-450.51.06-1_amd64.deb>\n",
        "!sudo dpkg -i cuda-repo-ubuntu2004-11-0-local_11.0.3-450.51.06-1_amd64.deb\n",
        "!sudo apt-key add /var/cuda-repo-ubuntu2004-11-0-local/7fa2af80.pub\n",
        "!sudo apt-get update\n",
        "!sudo apt-get install cuda"
      ],
      "execution_count": null,
      "outputs": []
    },
    {
      "cell_type": "code",
      "metadata": {
        "id": "eWZiDMBak7Hf"
      },
      "source": [
        "%cd \\content\\\n",
        "!git clone https://github.com/chanukab7/x265-videoconverter\n",
        "!pip install ffmpeg --upgrade\n",
        "!sudo add-apt-repository ppa:savoury1/ffmpeg4 -q\n",
        "!sudo add-apt-repository ppa:savoury1/graphics -q\n",
        "!sudo add-apt-repository ppa:savoury1/multimedia -q\n",
        "!sudo apt-get update -q\n",
        "!sudo apt-get install ffmpeg -q"
      ],
      "execution_count": null,
      "outputs": []
    },
    {
      "cell_type": "code",
      "metadata": {
        "id": "Ux7VOrn7u9jj"
      },
      "source": [
        "!wget https://us.download.nvidia.com/tesla/470.57.02/NVIDIA-Linux-x86_64-470.57.02.run\n",
        "!chmod +x NVIDIA-Linux-*\n",
        "!./NVIDIA-Linux-*"
      ],
      "execution_count": null,
      "outputs": []
    },
    {
      "cell_type": "code",
      "metadata": {
        "id": "FDgExRvflR47"
      },
      "source": [
        "!pip install gdown --upgrade"
      ],
      "execution_count": null,
      "outputs": []
    },
    {
      "cell_type": "code",
      "metadata": {
        "id": "RVOex60Elj0Z"
      },
      "source": [
        "%cd \\content\\\n",
        "!mkdir 'Vids'\n",
        "%cd /content/Vids/\n",
        "!gdown https://drive.google.com/u/0/uc?id=1-yaQFn7zHOWgPuVcPTN4VtcXQ72eo0BJ"
      ],
      "execution_count": null,
      "outputs": []
    },
    {
      "cell_type": "code",
      "metadata": {
        "id": "jwlrmPubltEU"
      },
      "source": [
        "%cd /content/x265-videoconverter\n",
        "!python main.py -t /content/Vids -s\n",
        "!python main.py -n 1 --crf 34\n",
        "!python main.py --clear-all"
      ],
      "execution_count": null,
      "outputs": []
    }
  ]
}